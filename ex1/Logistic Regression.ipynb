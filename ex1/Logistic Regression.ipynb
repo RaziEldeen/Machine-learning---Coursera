{
 "cells": [
  {
   "cell_type": "markdown",
   "metadata": {},
   "source": [
    "# Exercise 2\n"
   ]
  },
  {
   "cell_type": "code",
   "execution_count": 1,
   "metadata": {
    "collapsed": false
   },
   "outputs": [],
   "source": [
    "import numpy as np\n",
    "import matplotlib.pyplot as plt\n",
    "import seaborn as sns\n",
    "import pandas as pd\n",
    "import warnings\n",
    "import math\n",
    "\n",
    "warnings.filterwarnings('ignore')\n",
    "\n",
    "%matplotlib inline\n",
    "plt.rcParams['figure.figsize'] = 8,4"
   ]
  },
  {
   "cell_type": "markdown",
   "metadata": {},
   "source": [
    "## Load Data\n",
    "* The first two columns contains the exam scores and the third column\n",
    "  contains the label."
   ]
  },
  {
   "cell_type": "code",
   "execution_count": 2,
   "metadata": {
    "collapsed": false
   },
   "outputs": [
    {
     "data": {
      "text/html": [
       "<div>\n",
       "<table border=\"1\" class=\"dataframe\">\n",
       "  <thead>\n",
       "    <tr style=\"text-align: right;\">\n",
       "      <th></th>\n",
       "      <th>examScore1</th>\n",
       "      <th>examScore2</th>\n",
       "      <th>Admitted</th>\n",
       "    </tr>\n",
       "  </thead>\n",
       "  <tbody>\n",
       "    <tr>\n",
       "      <th>0</th>\n",
       "      <td>34.623660</td>\n",
       "      <td>78.024693</td>\n",
       "      <td>False</td>\n",
       "    </tr>\n",
       "    <tr>\n",
       "      <th>1</th>\n",
       "      <td>30.286711</td>\n",
       "      <td>43.894998</td>\n",
       "      <td>False</td>\n",
       "    </tr>\n",
       "    <tr>\n",
       "      <th>2</th>\n",
       "      <td>35.847409</td>\n",
       "      <td>72.902198</td>\n",
       "      <td>False</td>\n",
       "    </tr>\n",
       "    <tr>\n",
       "      <th>3</th>\n",
       "      <td>60.182599</td>\n",
       "      <td>86.308552</td>\n",
       "      <td>True</td>\n",
       "    </tr>\n",
       "    <tr>\n",
       "      <th>4</th>\n",
       "      <td>79.032736</td>\n",
       "      <td>75.344376</td>\n",
       "      <td>True</td>\n",
       "    </tr>\n",
       "  </tbody>\n",
       "</table>\n",
       "</div>"
      ],
      "text/plain": [
       "   examScore1  examScore2 Admitted\n",
       "0   34.623660   78.024693    False\n",
       "1   30.286711   43.894998    False\n",
       "2   35.847409   72.902198    False\n",
       "3   60.182599   86.308552     True\n",
       "4   79.032736   75.344376     True"
      ]
     },
     "execution_count": 2,
     "metadata": {},
     "output_type": "execute_result"
    }
   ],
   "source": [
    "data1 = np.loadtxt('C:\\\\Users\\\\Razi\\\\workDirectory\\\\MATHwork\\\\Machine learning\\\\ex2\\\\ex2data1.txt',delimiter=',')\n",
    "\n",
    "dframe1 = pd.DataFrame(data1,columns=['examScore1','examScore2','Admitted'],dtype='float')\n",
    "dframe1.Admitted = dframe1.Admitted.astype('bool')\n",
    "dframe1.head()"
   ]
  },
  {
   "cell_type": "code",
   "execution_count": 3,
   "metadata": {
    "collapsed": false
   },
   "outputs": [],
   "source": [
    "# from dataframe to numpy arrays\n",
    "X = dframe1.as_matrix()[:,:-1].astype('float') # data\n",
    "y = dframe1.as_matrix()[:,-1].astype('int')    # labels\n",
    "\n",
    "# m: number of examples\n",
    "# n: number of features \n",
    "m ,n = X.shape\n",
    "\n",
    "y = y.reshape(m,1)\n",
    "\n",
    "# Add intercept term to X\n",
    "X = np.c_[np.ones((m,1)), X]\n",
    "\n",
    "# Initialize fitting parameters\n",
    "initial_theta = np.zeros((n+1,1))"
   ]
  },
  {
   "cell_type": "markdown",
   "metadata": {},
   "source": [
    "## Plotting the Data"
   ]
  },
  {
   "cell_type": "code",
   "execution_count": 4,
   "metadata": {
    "collapsed": true
   },
   "outputs": [],
   "source": [
    "def myPlot(X, y , theta=None):\n",
    "    # plot the data\n",
    "    sns.lmplot(data= dframe1, x='examScore1',y='examScore2',hue = 'Admitted',fit_reg=False , scatter_kws={\"s\":50},aspect=2)\n",
    "    if theta != None: # plot the linear fit\n",
    "        score1 = np.squeeze(np.asarray(np.matrix(np.linspace(30,100,num=200))))\n",
    "        score2 = np.squeeze(np.asarray((-theta[0]-np.multiply(score1,theta[1]))/theta[2]))\n",
    "        sns.plt.plot(score1,score2,'r')\n",
    "    sns.plt.show()    \n",
    "        "
   ]
  },
  {
   "cell_type": "code",
   "execution_count": 5,
   "metadata": {
    "collapsed": false
   },
   "outputs": [
    {
     "data": {
      "image/png": "[encoded data removed]",
      "text/plain": [
       "<matplotlib.figure.Figure at 0x222d7858f98>"
      ]
     },
     "metadata": {},
     "output_type": "display_data"
    }
   ],
   "source": [
    "myPlot(X, y)"
   ]
  },
  {
   "cell_type": "markdown",
   "metadata": {},
   "source": [
    "## Logistic regression:\n"
   ]
  },
  {
   "cell_type": "code",
   "execution_count": 6,
   "metadata": {
    "collapsed": true
   },
   "outputs": [],
   "source": [
    "def segmoid(z):\n",
    "    return 1 / (1 + np.exp(-z))"
   ]
  },
  {
   "cell_type": "code",
   "execution_count": 7,
   "metadata": {
    "collapsed": false
   },
   "outputs": [],
   "source": [
    "def costFunction(theta, X, y):\n",
    "    m = len(y)\n",
    "    temp = np.ones((m,1))\n",
    "    g = segmoid(X.dot(theta))\n",
    "    for i in range(len(g)):\n",
    "        if(g[i]==0):\n",
    "            g[i]=1e-20\n",
    "        elif(g[i]==1):\n",
    "            g[i] = 1 - 1e-20\n",
    "    # J(theta)\n",
    "    J = -(np.dot(y.T, np.log(g)) + np.dot((temp-y).T, np.log(temp-g)))/m\n",
    "    \n",
    "    grad = np.dot(X.T, (h(X, theta)-y))/m \n",
    "    \n",
    "    return J\n",
    "                  "
   ]
  },
  {
   "cell_type": "code",
   "execution_count": 8,
   "metadata": {
    "collapsed": true
   },
   "outputs": [],
   "source": [
    "def h(X,theta):\n",
    "    \n",
    "    return segmoid(X.dot(theta))"
   ]
  },
  {
   "cell_type": "code",
   "execution_count": 9,
   "metadata": {
    "collapsed": false
   },
   "outputs": [],
   "source": [
    "def gradientDescentMulti(X, y, theta, alpha, num_iters):\n",
    "    m = len(y)\n",
    "    #  for computing J(theta) after every iteration \n",
    "    J_history = np.zeros((num_iters,1))\n",
    "    #  Gradient Descent:\n",
    "    for it in range(num_iters):\n",
    "        theta = theta - (alpha)* np.dot(X.T , (h(X,theta) - y))\n",
    "        J_history[it] = costFunction(theta, X, y);\n",
    "    \n",
    "    return theta,J_history "
   ]
  },
  {
   "cell_type": "markdown",
   "metadata": {},
   "source": [
    "## Training the model:"
   ]
  },
  {
   "cell_type": "code",
   "execution_count": 23,
   "metadata": {
    "collapsed": false
   },
   "outputs": [
    {
     "data": {
      "text/plain": [
       "array([[-6844.22148096],\n",
       "       [   53.74553809],\n",
       "       [   53.23767642]])"
      ]
     },
     "execution_count": 23,
     "metadata": {},
     "output_type": "execute_result"
    }
   ],
   "source": [
    "theta, cost = gradientDescentMulti(X, y, initial_theta, 0.011, 200000)\n",
    "theta"
   ]
  },
  {
   "cell_type": "code",
   "execution_count": 24,
   "metadata": {
    "collapsed": false
   },
   "outputs": [
    {
     "data": {
      "image/png": "[encoded data removed]",
      "text/plain": [
       "<matplotlib.figure.Figure at 0x222d843ee48>"
      ]
     },
     "metadata": {},
     "output_type": "display_data"
    }
   ],
   "source": [
    "myPlot(X, y, theta)"
   ]
  },
  {
   "cell_type": "markdown",
   "metadata": {},
   "source": [
    "## Training Error:"
   ]
  },
  {
   "cell_type": "code",
   "execution_count": 25,
   "metadata": {
    "collapsed": false
   },
   "outputs": [
    {
     "name": "stdout",
     "output_type": "stream",
     "text": [
      "The training accuracy is: %88.0\n"
     ]
    }
   ],
   "source": [
    "p = (h(X ,theta)>0.5).astype('int')\n",
    "accuracy = np.mean(p==y)*100\n",
    "print('The training accuracy is: %' + str(accuracy) )"
   ]
  },
  {
   "cell_type": "markdown",
   "metadata": {},
   "source": [
    "# Logistic Regression (with regularization)"
   ]
  },
  {
   "cell_type": "markdown",
   "metadata": {},
   "source": [
    "## Load Data\n",
    "* The first two columns contains the scores and the third column\n",
    "  contains the label."
   ]
  },
  {
   "cell_type": "code",
   "execution_count": 26,
   "metadata": {
    "collapsed": false
   },
   "outputs": [
    {
     "data": {
      "text/html": [
       "<div>\n",
       "<table border=\"1\" class=\"dataframe\">\n",
       "  <thead>\n",
       "    <tr style=\"text-align: right;\">\n",
       "      <th></th>\n",
       "      <th>Microchip Test 1</th>\n",
       "      <th>Microchip Test 2</th>\n",
       "      <th>Good</th>\n",
       "    </tr>\n",
       "  </thead>\n",
       "  <tbody>\n",
       "    <tr>\n",
       "      <th>0</th>\n",
       "      <td>0.051267</td>\n",
       "      <td>0.69956</td>\n",
       "      <td>1.0</td>\n",
       "    </tr>\n",
       "    <tr>\n",
       "      <th>1</th>\n",
       "      <td>-0.092742</td>\n",
       "      <td>0.68494</td>\n",
       "      <td>1.0</td>\n",
       "    </tr>\n",
       "    <tr>\n",
       "      <th>2</th>\n",
       "      <td>-0.213710</td>\n",
       "      <td>0.69225</td>\n",
       "      <td>1.0</td>\n",
       "    </tr>\n",
       "    <tr>\n",
       "      <th>3</th>\n",
       "      <td>-0.375000</td>\n",
       "      <td>0.50219</td>\n",
       "      <td>1.0</td>\n",
       "    </tr>\n",
       "    <tr>\n",
       "      <th>4</th>\n",
       "      <td>-0.513250</td>\n",
       "      <td>0.46564</td>\n",
       "      <td>1.0</td>\n",
       "    </tr>\n",
       "  </tbody>\n",
       "</table>\n",
       "</div>"
      ],
      "text/plain": [
       "   Microchip Test 1  Microchip Test 2  Good\n",
       "0          0.051267           0.69956   1.0\n",
       "1         -0.092742           0.68494   1.0\n",
       "2         -0.213710           0.69225   1.0\n",
       "3         -0.375000           0.50219   1.0\n",
       "4         -0.513250           0.46564   1.0"
      ]
     },
     "execution_count": 26,
     "metadata": {},
     "output_type": "execute_result"
    }
   ],
   "source": [
    "data2 = np.loadtxt('C:\\\\Users\\\\Razi\\\\workDirectory\\\\MATHwork\\\\Machine learning\\\\ex2\\\\ex2data2.txt',delimiter=',')\n",
    "\n",
    "dframe2 = pd.DataFrame(data2,columns=['Microchip Test 1','Microchip Test 2','Good'],dtype='float')\n",
    "dframe2.Admitted = dframe1.Admitted.astype('bool')\n",
    "dframe2.head()"
   ]
  },
  {
   "cell_type": "code",
   "execution_count": 27,
   "metadata": {
    "collapsed": false
   },
   "outputs": [],
   "source": [
    "# from dataframe to numpy arrays\n",
    "X2 = dframe2.as_matrix()[:,:-1].astype('float') # data\n",
    "y2 = dframe2.as_matrix()[:,-1].astype('int')    # labels\n",
    "\n",
    "# m: number of examples\n",
    "# n: number of features \n",
    "m ,n = X2.shape\n",
    "\n",
    "y2 = y2.reshape(m,1)\n",
    "\n",
    "# Add intercept term to X\n",
    "X_n = np.c_[np.ones((m,1)), X2]\n",
    "\n",
    "# Initialize fitting parameters\n",
    "initial_theta = np.zeros((n+1,1))"
   ]
  },
  {
   "cell_type": "code",
   "execution_count": 244,
   "metadata": {
    "collapsed": false
   },
   "outputs": [],
   "source": [
    "def myPlot2(X, y , theta=None):\n",
    "    # plot the data\n",
    "    sns.lmplot(data= dframe2, x='Microchip Test 1',y='Microchip Test 2',\\\n",
    "               hue = 'Good',fit_reg=False , scatter_kws={\"s\":80},aspect=1,size=8)\n",
    "    z = z.T\n",
    "    sns.plt.contour(u, v, z)\n",
    "    sns.plt.title('lambda = %f' % 1)\n",
    "    sns.plt.xlabel('Microchip Test 1')\n",
    "    sns.plt.ylabel('Microchip Test 2')\n",
    "    sns.plt.legend(['y = 1', 'y = 0', 'Decision boundary'])\n",
    "    sns.plt.show()\n",
    "    \n",
    "    if theta != None: # plot the linear fit\n",
    "        score1 = np.squeeze(np.asarray(np.matrix(np.linspace(30,100,num=200))))\n",
    "        score2 = np.squeeze(np.asarray((-theta[0]-np.multiply(score1,theta[1]))/theta[2]))\n",
    "        sns.plt.plot(score1,score2,'r')\n",
    "    sns.plt.show()  "
   ]
  },
  {
   "cell_type": "code",
   "execution_count": 28,
   "metadata": {
    "collapsed": true
   },
   "outputs": [],
   "source": [
    "def mapFeature(X1, X2):\n",
    "    # Inupts X1,X2 must be vectors with the same size\n",
    "    # degree must be a positive integer. \n",
    "    # mapFeature(X1, X2) maps the two input features to quadratic features used in the regularization exercise.\n",
    "    #Returns a new feature array with more features, comprising of  X1, X2, X1.^2, X2.^2, X1*X2, X1*X2.^2, etc..\n",
    "    \n",
    "    degree = 6\n",
    "    m = len(X1)\n",
    "    out = np.ones((m,28))\n",
    "    k=0\n",
    "    for i in range(0,6 + 1):\n",
    "        for j in range(0,i + 1):\n",
    "            out[:,k] = X1**(i-j) * X2**j\n",
    "            k+=1\n",
    "    return out"
   ]
  },
  {
   "cell_type": "code",
   "execution_count": 247,
   "metadata": {
    "collapsed": false
   },
   "outputs": [
    {
     "ename": "UnboundLocalError",
     "evalue": "local variable 'z' referenced before assignment",
     "output_type": "error",
     "traceback": [
      "\u001b[1;31m---------------------------------------------------------------------------\u001b[0m",
      "\u001b[1;31mUnboundLocalError\u001b[0m                         Traceback (most recent call last)",
      "\u001b[1;32m<ipython-input-247-d4e383d64d9b>\u001b[0m in \u001b[0;36m<module>\u001b[1;34m()\u001b[0m\n\u001b[1;32m----> 1\u001b[1;33m \u001b[0mmyPlot2\u001b[0m\u001b[1;33m(\u001b[0m\u001b[0mX2\u001b[0m\u001b[1;33m,\u001b[0m \u001b[0my2\u001b[0m\u001b[1;33m,\u001b[0m\u001b[0mz\u001b[0m\u001b[1;33m)\u001b[0m\u001b[1;33m\u001b[0m\u001b[0m\n\u001b[0m",
      "\u001b[1;32m<ipython-input-244-0dce653ff8c0>\u001b[0m in \u001b[0;36mmyPlot2\u001b[1;34m(X, y, theta)\u001b[0m\n\u001b[0;32m      2\u001b[0m     \u001b[1;31m# plot the data\u001b[0m\u001b[1;33m\u001b[0m\u001b[1;33m\u001b[0m\u001b[0m\n\u001b[0;32m      3\u001b[0m     \u001b[0msns\u001b[0m\u001b[1;33m.\u001b[0m\u001b[0mlmplot\u001b[0m\u001b[1;33m(\u001b[0m\u001b[0mdata\u001b[0m\u001b[1;33m=\u001b[0m \u001b[0mdframe2\u001b[0m\u001b[1;33m,\u001b[0m \u001b[0mx\u001b[0m\u001b[1;33m=\u001b[0m\u001b[1;34m'Microchip Test 1'\u001b[0m\u001b[1;33m,\u001b[0m\u001b[0my\u001b[0m\u001b[1;33m=\u001b[0m\u001b[1;34m'Microchip Test 2'\u001b[0m\u001b[1;33m,\u001b[0m               \u001b[0mhue\u001b[0m \u001b[1;33m=\u001b[0m \u001b[1;34m'Good'\u001b[0m\u001b[1;33m,\u001b[0m\u001b[0mfit_reg\u001b[0m\u001b[1;33m=\u001b[0m\u001b[1;32mFalse\u001b[0m \u001b[1;33m,\u001b[0m \u001b[0mscatter_kws\u001b[0m\u001b[1;33m=\u001b[0m\u001b[1;33m{\u001b[0m\u001b[1;34m\"s\"\u001b[0m\u001b[1;33m:\u001b[0m\u001b[1;36m80\u001b[0m\u001b[1;33m}\u001b[0m\u001b[1;33m,\u001b[0m\u001b[0maspect\u001b[0m\u001b[1;33m=\u001b[0m\u001b[1;36m1\u001b[0m\u001b[1;33m,\u001b[0m\u001b[0msize\u001b[0m\u001b[1;33m=\u001b[0m\u001b[1;36m8\u001b[0m\u001b[1;33m)\u001b[0m\u001b[1;33m\u001b[0m\u001b[0m\n\u001b[1;32m----> 4\u001b[1;33m     \u001b[0mz\u001b[0m \u001b[1;33m=\u001b[0m \u001b[0mz\u001b[0m\u001b[1;33m.\u001b[0m\u001b[0mT\u001b[0m\u001b[1;33m\u001b[0m\u001b[0m\n\u001b[0m\u001b[0;32m      5\u001b[0m     \u001b[0msns\u001b[0m\u001b[1;33m.\u001b[0m\u001b[0mplt\u001b[0m\u001b[1;33m.\u001b[0m\u001b[0mcontour\u001b[0m\u001b[1;33m(\u001b[0m\u001b[0mu\u001b[0m\u001b[1;33m,\u001b[0m \u001b[0mv\u001b[0m\u001b[1;33m,\u001b[0m \u001b[0mz\u001b[0m\u001b[1;33m)\u001b[0m\u001b[1;33m\u001b[0m\u001b[0m\n\u001b[0;32m      6\u001b[0m     \u001b[0msns\u001b[0m\u001b[1;33m.\u001b[0m\u001b[0mplt\u001b[0m\u001b[1;33m.\u001b[0m\u001b[0mtitle\u001b[0m\u001b[1;33m(\u001b[0m\u001b[1;34m'lambda = %f'\u001b[0m \u001b[1;33m%\u001b[0m \u001b[1;36m1\u001b[0m\u001b[1;33m)\u001b[0m\u001b[1;33m\u001b[0m\u001b[0m\n",
      "\u001b[1;31mUnboundLocalError\u001b[0m: local variable 'z' referenced before assignment"
     ]
    },
    {
     "data": {
      "image/png": "[encoded data removed]",
      "text/plain": [
       "<matplotlib.figure.Figure at 0x1d2b73ae630>"
      ]
     },
     "metadata": {},
     "output_type": "display_data"
    }
   ],
   "source": [
    "myPlot2(X2, y2,z)"
   ]
  },
  {
   "cell_type": "code",
   "execution_count": 30,
   "metadata": {
    "collapsed": false
   },
   "outputs": [],
   "source": [
    "X_n = mapFeature(X2[:,0],X2[:,1])\n",
    "initial_theta2 = np.zeros((X_n.shape[1],1))\n",
    "theta2,Cost2 = gradientDescentMulti(X_n, y2, initial_theta2, 0.015 ,100000)"
   ]
  },
  {
   "cell_type": "code",
   "execution_count": 31,
   "metadata": {
    "collapsed": false
   },
   "outputs": [
    {
     "data": {
      "text/plain": [
       "[<matplotlib.lines.Line2D at 0x222d84a0f60>]"
      ]
     },
     "execution_count": 31,
     "metadata": {},
     "output_type": "execute_result"
    },
    {
     "data": {
      "image/png": "[encoded data removed]",
      "text/plain": [
       "<matplotlib.figure.Figure at 0x222d831d780>"
      ]
     },
     "metadata": {},
     "output_type": "display_data"
    }
   ],
   "source": [
    "plt.plot(Cost2)"
   ]
  },
  {
   "cell_type": "code",
   "execution_count": 158,
   "metadata": {
    "collapsed": false
   },
   "outputs": [
    {
     "data": {
      "text/plain": [
       "27"
      ]
     },
     "execution_count": 158,
     "metadata": {},
     "output_type": "execute_result"
    }
   ],
   "source": [
    "cnt =0\n",
    "for i in range(1,6 + 1):\n",
    "        for j in range(0,i + 1):\n",
    "            cnt+=1\n",
    "cnt"
   ]
  },
  {
   "cell_type": "code",
   "execution_count": 154,
   "metadata": {
    "collapsed": false
   },
   "outputs": [
    {
     "data": {
      "text/plain": [
       "21"
      ]
     },
     "execution_count": 154,
     "metadata": {},
     "output_type": "execute_result"
    }
   ],
   "source": [
    "cnt"
   ]
  },
  {
   "cell_type": "code",
   "execution_count": 155,
   "metadata": {
    "collapsed": false
   },
   "outputs": [
    {
     "data": {
      "text/plain": [
       "array([1, 2, 3, 4, 5, 6])"
      ]
     },
     "execution_count": 155,
     "metadata": {},
     "output_type": "execute_result"
    }
   ],
   "source": [
    "np.array(range(1,7))"
   ]
  },
  {
   "cell_type": "code",
   "execution_count": 32,
   "metadata": {
    "collapsed": false
   },
   "outputs": [
    {
     "name": "stdout",
     "output_type": "stream",
     "text": [
      "The training accuracy is: %88.1355932203\n"
     ]
    }
   ],
   "source": [
    "p2 = (h(X_n ,theta2)>0.5).astype('int')\n",
    "accuracy = np.mean(p2==y2)*100\n",
    "print('The training accuracy is: %' + str(accuracy) )"
   ]
  },
  {
   "cell_type": "code",
   "execution_count": 34,
   "metadata": {
    "collapsed": true
   },
   "outputs": [],
   "source": [
    "def mapfeature(x1,x2,degree):\n",
    "    x1.shape = (x1.size, 1)\n",
    "    x2.shape = (x2.size, 1)\n",
    "    degree = 6\n",
    "    out = ones(shape=(x1[:, 0].size, 1))\n",
    "\n",
    "    m, n = out.shape\n",
    "\n",
    "    for i in range(1, degree + 1):\n",
    "        for j in range(i + 1):\n",
    "            r = (x1 ** (i - j)) * (x2 ** j)\n",
    "            out = append(out, r, axis=1)\n",
    "\n",
    "    return out"
   ]
  },
  {
   "cell_type": "code",
   "execution_count": 57,
   "metadata": {
    "collapsed": false
   },
   "outputs": [
    {
     "name": "stdout",
     "output_type": "stream",
     "text": [
      "[[-136.43759229 -122.14292404 -110.08636868 ..., -193.04325199\n",
      "  -228.53135172 -270.95106794]\n",
      " [-121.2374911  -107.61184425  -96.18131617 ..., -178.48502216\n",
      "  -213.60245475 -255.69851764]\n",
      " [-108.17815224  -95.16054193  -84.29636089 ..., -166.57102073\n",
      "  -201.46340852 -243.39033672]\n",
      " ..., \n",
      " [-105.96643999  -82.67496052  -62.45512843 ..., -649.42355399\n",
      "  -728.50991612 -819.54851444]\n",
      " [-104.48392686  -79.56761613  -57.93471789 ..., -718.51295554\n",
      "  -801.08724307 -895.72235572]\n",
      " [-100.63806361  -74.03685002  -50.94897944 ..., -795.76199094 -882.2132024\n",
      "  -980.83567222]]\n"
     ]
    },
    {
     "data": {
      "image/png": "[encoded data removed]",
      "text/plain": [
       "<matplotlib.figure.Figure at 0x222d8512390>"
      ]
     },
     "metadata": {},
     "output_type": "display_data"
    }
   ],
   "source": [
    "u = np.linspace(-1, 1.5, 50)\n",
    "v = np.linspace(-1, 1.5, 50)\n",
    "z = np.zeros(shape=(len(u), len(v)))\n",
    "\n",
    "for i in range(len(u)):\n",
    "    for j in range(len(v)):\n",
    "        z[i, j] = (map_feature(np.array(u[i]), np.array(v[j])).dot(np.array(theta2)))\n",
    "\n",
    "        \n",
    "#sns.plt.scatter(X2[:,0],X2[:,1])\n",
    "def myPlot2(X, y , theta=None):\n",
    "    # plot the data\n",
    "    u = np.linspace(-1, 1.5, 50)\n",
    "    v = np.linspace(-1, 1.5, 50)\n",
    "    z = np.zeros(shape=(len(u), len(v)))\n",
    "    \n",
    "    for i in range(len(u)):\n",
    "        for j in range(len(v)):\n",
    "            z[i, j] = (map_feature(np.array(u[i]), np.array(v[j]))).dot(np.array(theta2))\n",
    "       \n",
    "    sns.lmplot(data= dframe2, x='Microchip Test 1',y='Microchip Test 2',\\\n",
    "               hue = 'Good',fit_reg=False , scatter_kws={\"s\":80},aspect=1,size=8,)\n",
    "    z = z.T\n",
    "    print(z)\n",
    "    plt.contour(u,v,z,1,args = 'b')\n",
    "    \n",
    "    if theta != None: # plot the linear fit\n",
    "        score1 = np.squeeze(np.asarray(np.matrix(np.linspace(30,100,num=200))))\n",
    "        score2 = np.squeeze(np.asarray((-theta[0]-np.multiply(score1,theta[1]))/theta[2]))\n",
    "        sns.plt.plot(score1,score2,'r')\n",
    "    sns.plt.show()  \n",
    "\n",
    "myPlot2(X2,y2)"
   ]
  },
  {
   "cell_type": "code",
   "execution_count": 36,
   "metadata": {
    "collapsed": true
   },
   "outputs": [],
   "source": [
    "def map_feature(x1, x2):\n",
    "    '''\n",
    "    Maps the two input features to quadratic features.\n",
    "    Returns a new feature array with more features, comprising of\n",
    "    X1, X2, X1 ** 2, X2 ** 2, X1*X2, X1*X2 ** 2, etc...\n",
    "    Inputs X1, X2 must be the same size\n",
    "    '''\n",
    "    x1.shape = (x1.size, 1)\n",
    "    x2.shape = (x2.size, 1)\n",
    "    degree = 6\n",
    "    out = np.ones(shape=(x1[:, 0].size, 1))\n",
    "\n",
    "    m, n = out.shape\n",
    "\n",
    "    for i in range(1, degree + 1):\n",
    "        for j in range(i + 1):\n",
    "            r = (x1 ** (i - j)) * (x2 ** j)\n",
    "            out = np.append(out, r, axis=1)\n",
    "\n",
    "    return out"
   ]
  },
  {
   "cell_type": "markdown",
   "metadata": {},
   "source": []
  },
  {
   "cell_type": "code",
   "execution_count": 49,
   "metadata": {
    "collapsed": true
   },
   "outputs": [],
   "source": [
    "def mapFeature2(x1,x2,degree):\n",
    "    \n",
    "    x1.shape = (x1.size, 1)\n",
    "    x2.shape = (x2.size, 1)\n",
    "    degree = 6\n",
    "    out = np.ones(shape=(x1[:, 0].size, 1))\n",
    "\n",
    "    m, n = out.shape\n",
    "    out = np.ones(x1.shape[0]).T\n",
    "    for i in range(1,degree+1):\n",
    "        for j in range(i+1):\n",
    "            out = np.c_[out,x1**(i-j) * x2**j]\n",
    "    return out"
   ]
  },
  {
   "cell_type": "code",
   "execution_count": 50,
   "metadata": {
    "collapsed": false
   },
   "outputs": [],
   "source": [
    "def plotDecisionBoundary(X,degree):\n",
    "    x1Array = np.linspace(np.min(X[:,1]),np.max(X[:,1]),num=50)\n",
    "    x2Array = np.linspace(np.min(X[:,2]),np.max(X[:,2]),num=50)\n",
    "    z = np.zeros((len(x1Array),len(x2Array)))\n",
    "    for i in range(len(x1Array)):\n",
    "        for j in range(len(x2Array)):\n",
    "            z[i,j] = mapFeature2(np.matrix(x1Array[i]),np.matrix(x2Array[j]),degree)*theta\n",
    "    plt.contour(x1Array,x2Array,z,1)"
   ]
  },
  {
   "cell_type": "code",
   "execution_count": 51,
   "metadata": {
    "collapsed": false
   },
   "outputs": [
    {
     "ename": "ValueError",
     "evalue": "shapes (1,28) and (3,1) not aligned: 28 (dim 1) != 3 (dim 0)",
     "output_type": "error",
     "traceback": [
      "\u001b[1;31m---------------------------------------------------------------------------\u001b[0m",
      "\u001b[1;31mValueError\u001b[0m                                Traceback (most recent call last)",
      "\u001b[1;32m<ipython-input-51-5f1474a31ee8>\u001b[0m in \u001b[0;36m<module>\u001b[1;34m()\u001b[0m\n\u001b[1;32m----> 1\u001b[1;33m \u001b[0mplotDecisionBoundary\u001b[0m\u001b[1;33m(\u001b[0m\u001b[0mX\u001b[0m\u001b[1;33m,\u001b[0m\u001b[1;36m6\u001b[0m\u001b[1;33m)\u001b[0m\u001b[1;33m\u001b[0m\u001b[0m\n\u001b[0m",
      "\u001b[1;32m<ipython-input-50-d4b16c6a913b>\u001b[0m in \u001b[0;36mplotDecisionBoundary\u001b[1;34m(X, degree)\u001b[0m\n\u001b[0;32m      5\u001b[0m     \u001b[1;32mfor\u001b[0m \u001b[0mi\u001b[0m \u001b[1;32min\u001b[0m \u001b[0mrange\u001b[0m\u001b[1;33m(\u001b[0m\u001b[0mlen\u001b[0m\u001b[1;33m(\u001b[0m\u001b[0mx1Array\u001b[0m\u001b[1;33m)\u001b[0m\u001b[1;33m)\u001b[0m\u001b[1;33m:\u001b[0m\u001b[1;33m\u001b[0m\u001b[0m\n\u001b[0;32m      6\u001b[0m         \u001b[1;32mfor\u001b[0m \u001b[0mj\u001b[0m \u001b[1;32min\u001b[0m \u001b[0mrange\u001b[0m\u001b[1;33m(\u001b[0m\u001b[0mlen\u001b[0m\u001b[1;33m(\u001b[0m\u001b[0mx2Array\u001b[0m\u001b[1;33m)\u001b[0m\u001b[1;33m)\u001b[0m\u001b[1;33m:\u001b[0m\u001b[1;33m\u001b[0m\u001b[0m\n\u001b[1;32m----> 7\u001b[1;33m             \u001b[0mz\u001b[0m\u001b[1;33m[\u001b[0m\u001b[0mi\u001b[0m\u001b[1;33m,\u001b[0m\u001b[0mj\u001b[0m\u001b[1;33m]\u001b[0m \u001b[1;33m=\u001b[0m \u001b[0mmapFeature2\u001b[0m\u001b[1;33m(\u001b[0m\u001b[0mnp\u001b[0m\u001b[1;33m.\u001b[0m\u001b[0mmatrix\u001b[0m\u001b[1;33m(\u001b[0m\u001b[0mx1Array\u001b[0m\u001b[1;33m[\u001b[0m\u001b[0mi\u001b[0m\u001b[1;33m]\u001b[0m\u001b[1;33m)\u001b[0m\u001b[1;33m,\u001b[0m\u001b[0mnp\u001b[0m\u001b[1;33m.\u001b[0m\u001b[0mmatrix\u001b[0m\u001b[1;33m(\u001b[0m\u001b[0mx2Array\u001b[0m\u001b[1;33m[\u001b[0m\u001b[0mj\u001b[0m\u001b[1;33m]\u001b[0m\u001b[1;33m)\u001b[0m\u001b[1;33m,\u001b[0m\u001b[0mdegree\u001b[0m\u001b[1;33m)\u001b[0m\u001b[1;33m*\u001b[0m\u001b[0mtheta\u001b[0m\u001b[1;33m\u001b[0m\u001b[0m\n\u001b[0m\u001b[0;32m      8\u001b[0m     \u001b[0mplt\u001b[0m\u001b[1;33m.\u001b[0m\u001b[0mcontour\u001b[0m\u001b[1;33m(\u001b[0m\u001b[0mx1Array\u001b[0m\u001b[1;33m,\u001b[0m\u001b[0mx2Array\u001b[0m\u001b[1;33m,\u001b[0m\u001b[0mz\u001b[0m\u001b[1;33m,\u001b[0m\u001b[1;36m1\u001b[0m\u001b[1;33m)\u001b[0m\u001b[1;33m\u001b[0m\u001b[0m\n",
      "\u001b[1;32mC:\\Users\\Razi\\Anaconda3\\lib\\site-packages\\numpy\\matrixlib\\defmatrix.py\u001b[0m in \u001b[0;36m__mul__\u001b[1;34m(self, other)\u001b[0m\n\u001b[0;32m    341\u001b[0m         \u001b[1;32mif\u001b[0m \u001b[0misinstance\u001b[0m\u001b[1;33m(\u001b[0m\u001b[0mother\u001b[0m\u001b[1;33m,\u001b[0m \u001b[1;33m(\u001b[0m\u001b[0mN\u001b[0m\u001b[1;33m.\u001b[0m\u001b[0mndarray\u001b[0m\u001b[1;33m,\u001b[0m \u001b[0mlist\u001b[0m\u001b[1;33m,\u001b[0m \u001b[0mtuple\u001b[0m\u001b[1;33m)\u001b[0m\u001b[1;33m)\u001b[0m \u001b[1;33m:\u001b[0m\u001b[1;33m\u001b[0m\u001b[0m\n\u001b[0;32m    342\u001b[0m             \u001b[1;31m# This promotes 1-D vectors to row vectors\u001b[0m\u001b[1;33m\u001b[0m\u001b[1;33m\u001b[0m\u001b[0m\n\u001b[1;32m--> 343\u001b[1;33m             \u001b[1;32mreturn\u001b[0m \u001b[0mN\u001b[0m\u001b[1;33m.\u001b[0m\u001b[0mdot\u001b[0m\u001b[1;33m(\u001b[0m\u001b[0mself\u001b[0m\u001b[1;33m,\u001b[0m \u001b[0masmatrix\u001b[0m\u001b[1;33m(\u001b[0m\u001b[0mother\u001b[0m\u001b[1;33m)\u001b[0m\u001b[1;33m)\u001b[0m\u001b[1;33m\u001b[0m\u001b[0m\n\u001b[0m\u001b[0;32m    344\u001b[0m         \u001b[1;32mif\u001b[0m \u001b[0misscalar\u001b[0m\u001b[1;33m(\u001b[0m\u001b[0mother\u001b[0m\u001b[1;33m)\u001b[0m \u001b[1;32mor\u001b[0m \u001b[1;32mnot\u001b[0m \u001b[0mhasattr\u001b[0m\u001b[1;33m(\u001b[0m\u001b[0mother\u001b[0m\u001b[1;33m,\u001b[0m \u001b[1;34m'__rmul__'\u001b[0m\u001b[1;33m)\u001b[0m \u001b[1;33m:\u001b[0m\u001b[1;33m\u001b[0m\u001b[0m\n\u001b[0;32m    345\u001b[0m             \u001b[1;32mreturn\u001b[0m \u001b[0mN\u001b[0m\u001b[1;33m.\u001b[0m\u001b[0mdot\u001b[0m\u001b[1;33m(\u001b[0m\u001b[0mself\u001b[0m\u001b[1;33m,\u001b[0m \u001b[0mother\u001b[0m\u001b[1;33m)\u001b[0m\u001b[1;33m\u001b[0m\u001b[0m\n",
      "\u001b[1;31mValueError\u001b[0m: shapes (1,28) and (3,1) not aligned: 28 (dim 1) != 3 (dim 0)"
     ]
    }
   ],
   "source": [
    "plotDecisionBoundary(X,6)"
   ]
  },
  {
   "cell_type": "code",
   "execution_count": null,
   "metadata": {
    "collapsed": true
   },
   "outputs": [],
   "source": []
  }
 ],
 "metadata": {
  "anaconda-cloud": {},
  "kernelspec": {
   "display_name": "Python [Root]",
   "language": "python",
   "name": "Python [Root]"
  },
  "language_info": {
   "codemirror_mode": {
    "name": "ipython",
    "version": 3
   },
   "file_extension": ".py",
   "mimetype": "text/x-python",
   "name": "python",
   "nbconvert_exporter": "python",
   "pygments_lexer": "ipython3",
   "version": "3.5.2"
  }
 },
 "nbformat": 4,
 "nbformat_minor": 0
}
